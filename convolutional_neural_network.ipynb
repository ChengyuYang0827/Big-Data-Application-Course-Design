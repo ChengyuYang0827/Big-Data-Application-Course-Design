{
 "cells": [
  {
   "cell_type": "markdown",
   "metadata": {
    "colab_type": "text",
    "id": "3DR-eO17geWu"
   },
   "source": [
    "# Convolutional Neural Network"
   ]
  },
  {
   "cell_type": "markdown",
   "metadata": {
    "colab_type": "text",
    "id": "EMefrVPCg-60"
   },
   "source": [
    "### Importing the libraries"
   ]
  },
  {
   "cell_type": "code",
   "execution_count": 2,
   "metadata": {
    "colab": {},
    "colab_type": "code",
    "id": "sCV30xyVhFbE"
   },
   "outputs": [],
   "source": [
    "import tensorflow as tf\n",
    "from keras.preprocessing.image import ImageDataGenerator"
   ]
  },
  {
   "cell_type": "code",
   "execution_count": 3,
   "metadata": {
    "colab": {},
    "colab_type": "code",
    "id": "FIleuCAjoFD8"
   },
   "outputs": [
    {
     "data": {
      "text/plain": [
       "'2.3.1'"
      ]
     },
     "execution_count": 3,
     "metadata": {},
     "output_type": "execute_result"
    }
   ],
   "source": [
    "tf.__version__"
   ]
  },
  {
   "cell_type": "markdown",
   "metadata": {
    "colab_type": "text",
    "id": "oxQxCBWyoGPE"
   },
   "source": [
    "## Part 1 - Data Preprocessing"
   ]
  },
  {
   "cell_type": "markdown",
   "metadata": {
    "colab_type": "text",
    "id": "MvE-heJNo3GG"
   },
   "source": [
    "### Preprocessing the Training set"
   ]
  },
  {
   "cell_type": "code",
   "execution_count": 4,
   "metadata": {
    "colab": {},
    "colab_type": "code",
    "id": "0koUcJMJpEBD"
   },
   "outputs": [
    {
     "name": "stdout",
     "output_type": "stream",
     "text": [
      "Found 20000 images belonging to 2 classes.\n"
     ]
    }
   ],
   "source": [
    "train_datagen = ImageDataGenerator(rescale = 1./255,\n",
    "                                   shear_range = 0.2,\n",
    "                                   zoom_range = 0.2,\n",
    "                                   horizontal_flip = True)\n",
    "training_set = train_datagen.flow_from_directory('dataset/training_set',\n",
    "                                                 target_size = (64, 64),\n",
    "                                                 batch_size = 32,\n",
    "                                                 class_mode = 'binary')"
   ]
  },
  {
   "cell_type": "markdown",
   "metadata": {
    "colab_type": "text",
    "id": "mrCMmGw9pHys"
   },
   "source": [
    "### Preprocessing the Test set"
   ]
  },
  {
   "cell_type": "code",
   "execution_count": 5,
   "metadata": {
    "colab": {},
    "colab_type": "code",
    "id": "SH4WzfOhpKc3"
   },
   "outputs": [
    {
     "name": "stdout",
     "output_type": "stream",
     "text": [
      "Found 5000 images belonging to 2 classes.\n"
     ]
    }
   ],
   "source": [
    "test_datagen = ImageDataGenerator(rescale = 1./255)\n",
    "test_set = test_datagen.flow_from_directory('dataset/test_set',\n",
    "                                            target_size = (64, 64),\n",
    "                                            batch_size = 32,\n",
    "                                            class_mode = 'binary')"
   ]
  },
  {
   "cell_type": "markdown",
   "metadata": {
    "colab_type": "text",
    "id": "af8O4l90gk7B"
   },
   "source": [
    "## Part 2 - Building the CNN"
   ]
  },
  {
   "cell_type": "markdown",
   "metadata": {
    "colab_type": "text",
    "id": "ces1gXY2lmoX"
   },
   "source": [
    "### Initialising the CNN"
   ]
  },
  {
   "cell_type": "code",
   "execution_count": 6,
   "metadata": {
    "colab": {},
    "colab_type": "code",
    "id": "SAUt4UMPlhLS"
   },
   "outputs": [],
   "source": [
    "cnn = tf.keras.models.Sequential()"
   ]
  },
  {
   "cell_type": "markdown",
   "metadata": {
    "colab_type": "text",
    "id": "u5YJj_XMl5LF"
   },
   "source": [
    "### Step 1 - Convolution"
   ]
  },
  {
   "cell_type": "code",
   "execution_count": 7,
   "metadata": {
    "colab": {},
    "colab_type": "code",
    "id": "XPzPrMckl-hV"
   },
   "outputs": [],
   "source": [
    "cnn.add(tf.keras.layers.Conv2D(filters=32, kernel_size=3, activation='relu', input_shape=[64, 64, 3]))"
   ]
  },
  {
   "cell_type": "markdown",
   "metadata": {
    "colab_type": "text",
    "id": "tf87FpvxmNOJ"
   },
   "source": [
    "### Step 2 - Pooling"
   ]
  },
  {
   "cell_type": "code",
   "execution_count": 8,
   "metadata": {
    "colab": {},
    "colab_type": "code",
    "id": "ncpqPl69mOac"
   },
   "outputs": [],
   "source": [
    "cnn.add(tf.keras.layers.MaxPool2D(pool_size=2, strides=2))"
   ]
  },
  {
   "cell_type": "markdown",
   "metadata": {
    "colab_type": "text",
    "id": "xaTOgD8rm4mU"
   },
   "source": [
    "### Adding a second convolutional layer"
   ]
  },
  {
   "cell_type": "code",
   "execution_count": 9,
   "metadata": {
    "colab": {},
    "colab_type": "code",
    "id": "i_-FZjn_m8gk"
   },
   "outputs": [],
   "source": [
    "cnn.add(tf.keras.layers.Conv2D(filters=32, kernel_size=3, activation='relu'))\n",
    "cnn.add(tf.keras.layers.MaxPool2D(pool_size=2, strides=2))"
   ]
  },
  {
   "cell_type": "markdown",
   "metadata": {
    "colab_type": "text",
    "id": "tmiEuvTunKfk"
   },
   "source": [
    "### Step 3 - Flattening"
   ]
  },
  {
   "cell_type": "code",
   "execution_count": 10,
   "metadata": {
    "colab": {},
    "colab_type": "code",
    "id": "6AZeOGCvnNZn"
   },
   "outputs": [],
   "source": [
    "cnn.add(tf.keras.layers.Flatten())"
   ]
  },
  {
   "cell_type": "markdown",
   "metadata": {
    "colab_type": "text",
    "id": "dAoSECOm203v"
   },
   "source": [
    "### Step 4 - Full Connection"
   ]
  },
  {
   "cell_type": "code",
   "execution_count": 11,
   "metadata": {
    "colab": {},
    "colab_type": "code",
    "id": "8GtmUlLd26Nq"
   },
   "outputs": [],
   "source": [
    "cnn.add(tf.keras.layers.Dense(units=128, activation='relu'))"
   ]
  },
  {
   "cell_type": "markdown",
   "metadata": {
    "colab_type": "text",
    "id": "yTldFvbX28Na"
   },
   "source": [
    "### Step 5 - Output Layer"
   ]
  },
  {
   "cell_type": "code",
   "execution_count": 12,
   "metadata": {
    "colab": {},
    "colab_type": "code",
    "id": "1p_Zj1Mc3Ko_"
   },
   "outputs": [],
   "source": [
    "cnn.add(tf.keras.layers.Dense(units=1, activation='sigmoid'))"
   ]
  },
  {
   "cell_type": "markdown",
   "metadata": {
    "colab_type": "text",
    "id": "D6XkI90snSDl"
   },
   "source": [
    "## Part 3 - Training the CNN"
   ]
  },
  {
   "cell_type": "markdown",
   "metadata": {
    "colab_type": "text",
    "id": "vfrFQACEnc6i"
   },
   "source": [
    "### Compiling the CNN"
   ]
  },
  {
   "cell_type": "code",
   "execution_count": 13,
   "metadata": {
    "colab": {},
    "colab_type": "code",
    "id": "NALksrNQpUlJ"
   },
   "outputs": [],
   "source": [
    "cnn.compile(optimizer = 'adam', loss = 'binary_crossentropy', metrics = ['accuracy'])"
   ]
  },
  {
   "cell_type": "markdown",
   "metadata": {
    "colab_type": "text",
    "id": "ehS-v3MIpX2h"
   },
   "source": [
    "### Training the CNN on the Training set and evaluating it on the Test set"
   ]
  },
  {
   "cell_type": "code",
   "execution_count": 14,
   "metadata": {
    "colab": {},
    "colab_type": "code",
    "id": "XUj1W4PJptta"
   },
   "outputs": [
    {
     "name": "stdout",
     "output_type": "stream",
     "text": [
      "Epoch 1/25\n",
      "625/625 [==============================] - 121s 194ms/step - loss: 0.6097 - accuracy: 0.6568 - val_loss: 0.5094 - val_accuracy: 0.7444\n",
      "Epoch 2/25\n",
      "625/625 [==============================] - 110s 176ms/step - loss: 0.5243 - accuracy: 0.7383 - val_loss: 0.4784 - val_accuracy: 0.7710\n",
      "Epoch 3/25\n",
      "625/625 [==============================] - 109s 175ms/step - loss: 0.4809 - accuracy: 0.7675 - val_loss: 0.4444 - val_accuracy: 0.7876\n",
      "Epoch 4/25\n",
      "625/625 [==============================] - 109s 174ms/step - loss: 0.4526 - accuracy: 0.7847 - val_loss: 0.4318 - val_accuracy: 0.7958\n",
      "Epoch 5/25\n",
      "625/625 [==============================] - 109s 175ms/step - loss: 0.4347 - accuracy: 0.7994 - val_loss: 0.4432 - val_accuracy: 0.7972\n",
      "Epoch 6/25\n",
      "625/625 [==============================] - 119s 190ms/step - loss: 0.4157 - accuracy: 0.8087 - val_loss: 0.4037 - val_accuracy: 0.8120\n",
      "Epoch 7/25\n",
      "625/625 [==============================] - 140s 224ms/step - loss: 0.4074 - accuracy: 0.8113 - val_loss: 0.4402 - val_accuracy: 0.8060\n",
      "Epoch 8/25\n",
      "625/625 [==============================] - 114s 183ms/step - loss: 0.3919 - accuracy: 0.8202 - val_loss: 0.4139 - val_accuracy: 0.8114\n",
      "Epoch 9/25\n",
      "625/625 [==============================] - 110s 176ms/step - loss: 0.3787 - accuracy: 0.8265 - val_loss: 0.4091 - val_accuracy: 0.8152\n",
      "Epoch 10/25\n",
      "625/625 [==============================] - 110s 175ms/step - loss: 0.3652 - accuracy: 0.8327 - val_loss: 0.4318 - val_accuracy: 0.8130\n",
      "Epoch 11/25\n",
      "625/625 [==============================] - 109s 175ms/step - loss: 0.3536 - accuracy: 0.8438 - val_loss: 0.4175 - val_accuracy: 0.8210\n",
      "Epoch 12/25\n",
      "625/625 [==============================] - 109s 175ms/step - loss: 0.3400 - accuracy: 0.8501 - val_loss: 0.3987 - val_accuracy: 0.8286\n",
      "Epoch 13/25\n",
      "625/625 [==============================] - 110s 175ms/step - loss: 0.3304 - accuracy: 0.8554 - val_loss: 0.3908 - val_accuracy: 0.8318\n",
      "Epoch 14/25\n",
      "625/625 [==============================] - 111s 178ms/step - loss: 0.3181 - accuracy: 0.8583 - val_loss: 0.4384 - val_accuracy: 0.8132\n",
      "Epoch 15/25\n",
      "625/625 [==============================] - 131s 209ms/step - loss: 0.3166 - accuracy: 0.8605 - val_loss: 0.3779 - val_accuracy: 0.8330\n",
      "Epoch 16/25\n",
      "625/625 [==============================] - 146s 233ms/step - loss: 0.3029 - accuracy: 0.8702 - val_loss: 0.4222 - val_accuracy: 0.8168\n",
      "Epoch 17/25\n",
      "625/625 [==============================] - 145s 232ms/step - loss: 0.2907 - accuracy: 0.8762 - val_loss: 0.4169 - val_accuracy: 0.8308\n",
      "Epoch 18/25\n",
      "625/625 [==============================] - 142s 227ms/step - loss: 0.2814 - accuracy: 0.8779 - val_loss: 0.4146 - val_accuracy: 0.8228\n",
      "Epoch 19/25\n",
      "625/625 [==============================] - 151s 241ms/step - loss: 0.2749 - accuracy: 0.8838 - val_loss: 0.4410 - val_accuracy: 0.8132\n",
      "Epoch 20/25\n",
      "625/625 [==============================] - 133s 213ms/step - loss: 0.2649 - accuracy: 0.8892 - val_loss: 0.5012 - val_accuracy: 0.7988\n",
      "Epoch 21/25\n",
      "625/625 [==============================] - 127s 204ms/step - loss: 0.2552 - accuracy: 0.8914 - val_loss: 0.4090 - val_accuracy: 0.8352\n",
      "Epoch 22/25\n",
      "625/625 [==============================] - 128s 205ms/step - loss: 0.2474 - accuracy: 0.8954 - val_loss: 0.4118 - val_accuracy: 0.8306\n",
      "Epoch 23/25\n",
      "625/625 [==============================] - 127s 203ms/step - loss: 0.2368 - accuracy: 0.9017 - val_loss: 0.4550 - val_accuracy: 0.8294\n",
      "Epoch 24/25\n",
      "625/625 [==============================] - 127s 204ms/step - loss: 0.2274 - accuracy: 0.9051 - val_loss: 0.4698 - val_accuracy: 0.8172\n",
      "Epoch 25/25\n",
      "625/625 [==============================] - 127s 203ms/step - loss: 0.2216 - accuracy: 0.9096 - val_loss: 0.4271 - val_accuracy: 0.8382\n"
     ]
    },
    {
     "data": {
      "text/plain": [
       "<tensorflow.python.keras.callbacks.History at 0x130e80160>"
      ]
     },
     "execution_count": 14,
     "metadata": {},
     "output_type": "execute_result"
    }
   ],
   "source": [
    "cnn.fit(x = training_set, validation_data = test_set, epochs = 25)"
   ]
  },
  {
   "cell_type": "markdown",
   "metadata": {
    "colab_type": "text",
    "id": "U3PZasO0006Z"
   },
   "source": [
    "## Part 4 - Making a single prediction"
   ]
  },
  {
   "cell_type": "code",
   "execution_count": 23,
   "metadata": {
    "colab": {},
    "colab_type": "code",
    "id": "gsSiWEJY1BPB"
   },
   "outputs": [
    {
     "name": "stdout",
     "output_type": "stream",
     "text": [
      "mycat.jpg:cat\n",
      "mydog.jpg:dog\n"
     ]
    }
   ],
   "source": [
    "import numpy as np\n",
    "from keras.preprocessing import image\n",
    "import glob as glob\n",
    "import os\n",
    "test_images = glob.glob('dataset/single_prediction/*.jpg')\n",
    "for image_src in test_images:\n",
    "  test_image = image.load_img(image_src, target_size = (64, 64))\n",
    "  test_image = image.img_to_array(test_image)\n",
    "  test_image = np.expand_dims(test_image, axis = 0)\n",
    "  result = cnn.predict(test_image)\n",
    "  training_set.class_indices\n",
    "  if result[0][0] == 1:\n",
    "      prediction = 'dog'\n",
    "  else:\n",
    "      prediction = 'cat'\n",
    "  img_dir,img_fn = os.path.split(image_src)\n",
    "  print(img_fn+\":\"+prediction)"
   ]
  },
  {
   "cell_type": "code",
   "execution_count": null,
   "metadata": {},
   "outputs": [],
   "source": []
  }
 ],
 "metadata": {
  "colab": {
   "collapsed_sections": [],
   "name": "convolutional_neural_network.ipynb",
   "provenance": [],
   "toc_visible": true
  },
  "kernelspec": {
   "display_name": "Python 3",
   "language": "python",
   "name": "python3"
  },
  "language_info": {
   "codemirror_mode": {
    "name": "ipython",
    "version": 3
   },
   "file_extension": ".py",
   "mimetype": "text/x-python",
   "name": "python",
   "nbconvert_exporter": "python",
   "pygments_lexer": "ipython3",
   "version": "3.6.8"
  }
 },
 "nbformat": 4,
 "nbformat_minor": 1
}
